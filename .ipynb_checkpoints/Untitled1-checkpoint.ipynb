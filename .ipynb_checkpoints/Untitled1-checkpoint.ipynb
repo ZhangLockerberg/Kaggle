{
 "cells": [
  {
   "cell_type": "code",
   "execution_count": 1,
   "id": "a6c4a174",
   "metadata": {},
   "outputs": [],
   "source": [
    "import pandas as pd\n",
    "\n",
    "train_in_file = 'C:/Users/24307/Downloads/Kaggle/train.csv'\n",
    "test_in_file = 'C:/Users/24307/Downloads/Kaggle/test.csv'\n",
    "data = pd.read_csv(train_in_file)\n",
    "test = pd.read_csv(test_in_file)"
   ]
  },
  {
   "cell_type": "code",
   "execution_count": 2,
   "id": "52c4ef88",
   "metadata": {},
   "outputs": [
    {
     "data": {
      "text/html": [
       "<div>\n",
       "<style scoped>\n",
       "    .dataframe tbody tr th:only-of-type {\n",
       "        vertical-align: middle;\n",
       "    }\n",
       "\n",
       "    .dataframe tbody tr th {\n",
       "        vertical-align: top;\n",
       "    }\n",
       "\n",
       "    .dataframe thead th {\n",
       "        text-align: right;\n",
       "    }\n",
       "</style>\n",
       "<table border=\"1\" class=\"dataframe\">\n",
       "  <thead>\n",
       "    <tr style=\"text-align: right;\">\n",
       "      <th></th>\n",
       "      <th>PassengerId</th>\n",
       "      <th>HomePlanet</th>\n",
       "      <th>CryoSleep</th>\n",
       "      <th>Cabin</th>\n",
       "      <th>Destination</th>\n",
       "      <th>Age</th>\n",
       "      <th>VIP</th>\n",
       "      <th>RoomService</th>\n",
       "      <th>FoodCourt</th>\n",
       "      <th>ShoppingMall</th>\n",
       "      <th>Spa</th>\n",
       "      <th>VRDeck</th>\n",
       "      <th>Name</th>\n",
       "      <th>Transported</th>\n",
       "    </tr>\n",
       "  </thead>\n",
       "  <tbody>\n",
       "    <tr>\n",
       "      <th>0</th>\n",
       "      <td>0001_01</td>\n",
       "      <td>Europa</td>\n",
       "      <td>False</td>\n",
       "      <td>B/0/P</td>\n",
       "      <td>TRAPPIST-1e</td>\n",
       "      <td>39.0</td>\n",
       "      <td>False</td>\n",
       "      <td>0.0</td>\n",
       "      <td>0.0</td>\n",
       "      <td>0.0</td>\n",
       "      <td>0.0</td>\n",
       "      <td>0.0</td>\n",
       "      <td>Maham Ofracculy</td>\n",
       "      <td>False</td>\n",
       "    </tr>\n",
       "    <tr>\n",
       "      <th>1</th>\n",
       "      <td>0002_01</td>\n",
       "      <td>Earth</td>\n",
       "      <td>False</td>\n",
       "      <td>F/0/S</td>\n",
       "      <td>TRAPPIST-1e</td>\n",
       "      <td>24.0</td>\n",
       "      <td>False</td>\n",
       "      <td>109.0</td>\n",
       "      <td>9.0</td>\n",
       "      <td>25.0</td>\n",
       "      <td>549.0</td>\n",
       "      <td>44.0</td>\n",
       "      <td>Juanna Vines</td>\n",
       "      <td>True</td>\n",
       "    </tr>\n",
       "    <tr>\n",
       "      <th>2</th>\n",
       "      <td>0003_01</td>\n",
       "      <td>Europa</td>\n",
       "      <td>False</td>\n",
       "      <td>A/0/S</td>\n",
       "      <td>TRAPPIST-1e</td>\n",
       "      <td>58.0</td>\n",
       "      <td>True</td>\n",
       "      <td>43.0</td>\n",
       "      <td>3576.0</td>\n",
       "      <td>0.0</td>\n",
       "      <td>6715.0</td>\n",
       "      <td>49.0</td>\n",
       "      <td>Altark Susent</td>\n",
       "      <td>False</td>\n",
       "    </tr>\n",
       "    <tr>\n",
       "      <th>3</th>\n",
       "      <td>0003_02</td>\n",
       "      <td>Europa</td>\n",
       "      <td>False</td>\n",
       "      <td>A/0/S</td>\n",
       "      <td>TRAPPIST-1e</td>\n",
       "      <td>33.0</td>\n",
       "      <td>False</td>\n",
       "      <td>0.0</td>\n",
       "      <td>1283.0</td>\n",
       "      <td>371.0</td>\n",
       "      <td>3329.0</td>\n",
       "      <td>193.0</td>\n",
       "      <td>Solam Susent</td>\n",
       "      <td>False</td>\n",
       "    </tr>\n",
       "    <tr>\n",
       "      <th>4</th>\n",
       "      <td>0004_01</td>\n",
       "      <td>Earth</td>\n",
       "      <td>False</td>\n",
       "      <td>F/1/S</td>\n",
       "      <td>TRAPPIST-1e</td>\n",
       "      <td>16.0</td>\n",
       "      <td>False</td>\n",
       "      <td>303.0</td>\n",
       "      <td>70.0</td>\n",
       "      <td>151.0</td>\n",
       "      <td>565.0</td>\n",
       "      <td>2.0</td>\n",
       "      <td>Willy Santantines</td>\n",
       "      <td>True</td>\n",
       "    </tr>\n",
       "    <tr>\n",
       "      <th>...</th>\n",
       "      <td>...</td>\n",
       "      <td>...</td>\n",
       "      <td>...</td>\n",
       "      <td>...</td>\n",
       "      <td>...</td>\n",
       "      <td>...</td>\n",
       "      <td>...</td>\n",
       "      <td>...</td>\n",
       "      <td>...</td>\n",
       "      <td>...</td>\n",
       "      <td>...</td>\n",
       "      <td>...</td>\n",
       "      <td>...</td>\n",
       "      <td>...</td>\n",
       "    </tr>\n",
       "    <tr>\n",
       "      <th>4272</th>\n",
       "      <td>9266_02</td>\n",
       "      <td>Earth</td>\n",
       "      <td>True</td>\n",
       "      <td>G/1496/S</td>\n",
       "      <td>TRAPPIST-1e</td>\n",
       "      <td>34.0</td>\n",
       "      <td>False</td>\n",
       "      <td>0.0</td>\n",
       "      <td>0.0</td>\n",
       "      <td>0.0</td>\n",
       "      <td>0.0</td>\n",
       "      <td>0.0</td>\n",
       "      <td>Jeron Peter</td>\n",
       "      <td>NaN</td>\n",
       "    </tr>\n",
       "    <tr>\n",
       "      <th>4273</th>\n",
       "      <td>9269_01</td>\n",
       "      <td>Earth</td>\n",
       "      <td>False</td>\n",
       "      <td>NaN</td>\n",
       "      <td>TRAPPIST-1e</td>\n",
       "      <td>42.0</td>\n",
       "      <td>False</td>\n",
       "      <td>0.0</td>\n",
       "      <td>847.0</td>\n",
       "      <td>17.0</td>\n",
       "      <td>10.0</td>\n",
       "      <td>144.0</td>\n",
       "      <td>Matty Scheron</td>\n",
       "      <td>NaN</td>\n",
       "    </tr>\n",
       "    <tr>\n",
       "      <th>4274</th>\n",
       "      <td>9271_01</td>\n",
       "      <td>Mars</td>\n",
       "      <td>True</td>\n",
       "      <td>D/296/P</td>\n",
       "      <td>55 Cancri e</td>\n",
       "      <td>NaN</td>\n",
       "      <td>False</td>\n",
       "      <td>0.0</td>\n",
       "      <td>0.0</td>\n",
       "      <td>0.0</td>\n",
       "      <td>0.0</td>\n",
       "      <td>0.0</td>\n",
       "      <td>Jayrin Pore</td>\n",
       "      <td>NaN</td>\n",
       "    </tr>\n",
       "    <tr>\n",
       "      <th>4275</th>\n",
       "      <td>9273_01</td>\n",
       "      <td>Europa</td>\n",
       "      <td>False</td>\n",
       "      <td>D/297/P</td>\n",
       "      <td>NaN</td>\n",
       "      <td>NaN</td>\n",
       "      <td>False</td>\n",
       "      <td>0.0</td>\n",
       "      <td>2680.0</td>\n",
       "      <td>0.0</td>\n",
       "      <td>0.0</td>\n",
       "      <td>523.0</td>\n",
       "      <td>Kitakan Conale</td>\n",
       "      <td>NaN</td>\n",
       "    </tr>\n",
       "    <tr>\n",
       "      <th>4276</th>\n",
       "      <td>9277_01</td>\n",
       "      <td>Earth</td>\n",
       "      <td>True</td>\n",
       "      <td>G/1498/S</td>\n",
       "      <td>PSO J318.5-22</td>\n",
       "      <td>43.0</td>\n",
       "      <td>False</td>\n",
       "      <td>0.0</td>\n",
       "      <td>0.0</td>\n",
       "      <td>0.0</td>\n",
       "      <td>0.0</td>\n",
       "      <td>0.0</td>\n",
       "      <td>Lilace Leonzaley</td>\n",
       "      <td>NaN</td>\n",
       "    </tr>\n",
       "  </tbody>\n",
       "</table>\n",
       "<p>12970 rows × 14 columns</p>\n",
       "</div>"
      ],
      "text/plain": [
       "     PassengerId HomePlanet CryoSleep     Cabin    Destination   Age    VIP  \\\n",
       "0        0001_01     Europa     False     B/0/P    TRAPPIST-1e  39.0  False   \n",
       "1        0002_01      Earth     False     F/0/S    TRAPPIST-1e  24.0  False   \n",
       "2        0003_01     Europa     False     A/0/S    TRAPPIST-1e  58.0   True   \n",
       "3        0003_02     Europa     False     A/0/S    TRAPPIST-1e  33.0  False   \n",
       "4        0004_01      Earth     False     F/1/S    TRAPPIST-1e  16.0  False   \n",
       "...          ...        ...       ...       ...            ...   ...    ...   \n",
       "4272     9266_02      Earth      True  G/1496/S    TRAPPIST-1e  34.0  False   \n",
       "4273     9269_01      Earth     False       NaN    TRAPPIST-1e  42.0  False   \n",
       "4274     9271_01       Mars      True   D/296/P    55 Cancri e   NaN  False   \n",
       "4275     9273_01     Europa     False   D/297/P            NaN   NaN  False   \n",
       "4276     9277_01      Earth      True  G/1498/S  PSO J318.5-22  43.0  False   \n",
       "\n",
       "      RoomService  FoodCourt  ShoppingMall     Spa  VRDeck               Name  \\\n",
       "0             0.0        0.0           0.0     0.0     0.0    Maham Ofracculy   \n",
       "1           109.0        9.0          25.0   549.0    44.0       Juanna Vines   \n",
       "2            43.0     3576.0           0.0  6715.0    49.0      Altark Susent   \n",
       "3             0.0     1283.0         371.0  3329.0   193.0       Solam Susent   \n",
       "4           303.0       70.0         151.0   565.0     2.0  Willy Santantines   \n",
       "...           ...        ...           ...     ...     ...                ...   \n",
       "4272          0.0        0.0           0.0     0.0     0.0        Jeron Peter   \n",
       "4273          0.0      847.0          17.0    10.0   144.0      Matty Scheron   \n",
       "4274          0.0        0.0           0.0     0.0     0.0        Jayrin Pore   \n",
       "4275          0.0     2680.0           0.0     0.0   523.0     Kitakan Conale   \n",
       "4276          0.0        0.0           0.0     0.0     0.0   Lilace Leonzaley   \n",
       "\n",
       "     Transported  \n",
       "0          False  \n",
       "1           True  \n",
       "2          False  \n",
       "3          False  \n",
       "4           True  \n",
       "...          ...  \n",
       "4272         NaN  \n",
       "4273         NaN  \n",
       "4274         NaN  \n",
       "4275         NaN  \n",
       "4276         NaN  \n",
       "\n",
       "[12970 rows x 14 columns]"
      ]
     },
     "execution_count": 2,
     "metadata": {},
     "output_type": "execute_result"
    }
   ],
   "source": [
    "t = data.append(test)\n",
    "t"
   ]
  },
  {
   "cell_type": "code",
   "execution_count": 3,
   "id": "883178d6",
   "metadata": {},
   "outputs": [],
   "source": [
    "t.reset_index(inplace=True)"
   ]
  },
  {
   "cell_type": "code",
   "execution_count": 4,
   "id": "16ba389c",
   "metadata": {
    "scrolled": true
   },
   "outputs": [
    {
     "data": {
      "text/html": [
       "<div>\n",
       "<style scoped>\n",
       "    .dataframe tbody tr th:only-of-type {\n",
       "        vertical-align: middle;\n",
       "    }\n",
       "\n",
       "    .dataframe tbody tr th {\n",
       "        vertical-align: top;\n",
       "    }\n",
       "\n",
       "    .dataframe thead th {\n",
       "        text-align: right;\n",
       "    }\n",
       "</style>\n",
       "<table border=\"1\" class=\"dataframe\">\n",
       "  <thead>\n",
       "    <tr style=\"text-align: right;\">\n",
       "      <th></th>\n",
       "      <th>index</th>\n",
       "      <th>PassengerId</th>\n",
       "      <th>HomePlanet</th>\n",
       "      <th>CryoSleep</th>\n",
       "      <th>Cabin</th>\n",
       "      <th>Destination</th>\n",
       "      <th>Age</th>\n",
       "      <th>VIP</th>\n",
       "      <th>RoomService</th>\n",
       "      <th>FoodCourt</th>\n",
       "      <th>ShoppingMall</th>\n",
       "      <th>Spa</th>\n",
       "      <th>VRDeck</th>\n",
       "      <th>Name</th>\n",
       "      <th>Transported</th>\n",
       "    </tr>\n",
       "  </thead>\n",
       "  <tbody>\n",
       "    <tr>\n",
       "      <th>0</th>\n",
       "      <td>0</td>\n",
       "      <td>0001_01</td>\n",
       "      <td>Europa</td>\n",
       "      <td>False</td>\n",
       "      <td>B/0/P</td>\n",
       "      <td>TRAPPIST-1e</td>\n",
       "      <td>39.0</td>\n",
       "      <td>False</td>\n",
       "      <td>0.0</td>\n",
       "      <td>0.0</td>\n",
       "      <td>0.0</td>\n",
       "      <td>0.0</td>\n",
       "      <td>0.0</td>\n",
       "      <td>Maham Ofracculy</td>\n",
       "      <td>False</td>\n",
       "    </tr>\n",
       "    <tr>\n",
       "      <th>1</th>\n",
       "      <td>1</td>\n",
       "      <td>0002_01</td>\n",
       "      <td>Earth</td>\n",
       "      <td>False</td>\n",
       "      <td>F/0/S</td>\n",
       "      <td>TRAPPIST-1e</td>\n",
       "      <td>24.0</td>\n",
       "      <td>False</td>\n",
       "      <td>109.0</td>\n",
       "      <td>9.0</td>\n",
       "      <td>25.0</td>\n",
       "      <td>549.0</td>\n",
       "      <td>44.0</td>\n",
       "      <td>Juanna Vines</td>\n",
       "      <td>True</td>\n",
       "    </tr>\n",
       "  </tbody>\n",
       "</table>\n",
       "</div>"
      ],
      "text/plain": [
       "   index PassengerId HomePlanet CryoSleep  Cabin  Destination   Age    VIP  \\\n",
       "0      0     0001_01     Europa     False  B/0/P  TRAPPIST-1e  39.0  False   \n",
       "1      1     0002_01      Earth     False  F/0/S  TRAPPIST-1e  24.0  False   \n",
       "\n",
       "   RoomService  FoodCourt  ShoppingMall    Spa  VRDeck             Name  \\\n",
       "0          0.0        0.0           0.0    0.0     0.0  Maham Ofracculy   \n",
       "1        109.0        9.0          25.0  549.0    44.0     Juanna Vines   \n",
       "\n",
       "  Transported  \n",
       "0       False  \n",
       "1        True  "
      ]
     },
     "execution_count": 4,
     "metadata": {},
     "output_type": "execute_result"
    }
   ],
   "source": [
    "t.loc[[0,1],:]"
   ]
  },
  {
   "cell_type": "code",
   "execution_count": 5,
   "id": "2a0d5caa",
   "metadata": {},
   "outputs": [],
   "source": [
    "a = t.Cabin"
   ]
  },
  {
   "cell_type": "code",
   "execution_count": 6,
   "id": "033c0fd9",
   "metadata": {},
   "outputs": [
    {
     "name": "stdout",
     "output_type": "stream",
     "text": [
      "Empty: 301\n",
      "Neigbouring: 0\n"
     ]
    }
   ],
   "source": [
    "counter = 0\n",
    "empty = 2\n",
    "empty_index_list = []\n",
    "non_empty_index_list = []\n",
    "for i in range(1, len(a)-1):\n",
    "    if str(a[i]) == 'nan':\n",
    "        empty += 1\n",
    "        empty_index_list.append(i)\n",
    "    else:\n",
    "        non_empty_index_list.append(i)\n",
    "    if (str(a[i]) == 'nan') & (str(a[i-1]) == 'nan') & (str(a[i+1]) == 'nan'):\n",
    "        counter += 1\n",
    "print('Empty: {}\\nNeigbouring: {}'.format(empty, counter))"
   ]
  },
  {
   "cell_type": "code",
   "execution_count": 7,
   "id": "0dd956f9",
   "metadata": {},
   "outputs": [],
   "source": [
    "t['Deck'] = t.loc[non_empty_index_list,:].Cabin.apply(lambda x: str(x).split('/')[0])\n",
    "t['CabinNumber'] = t.loc[non_empty_index_list,:].Cabin.apply(lambda x: str(x).split('/')[1])\n",
    "t['CabinSide'] = t.loc[non_empty_index_list,:].Cabin.apply(lambda x: str(x).split('/')[2])"
   ]
  },
  {
   "cell_type": "code",
   "execution_count": 8,
   "id": "ef9859c7",
   "metadata": {},
   "outputs": [],
   "source": [
    "t_slice = t.loc[:, 'Deck':'CabinSide']"
   ]
  },
  {
   "cell_type": "code",
   "execution_count": 9,
   "id": "7bd9e304",
   "metadata": {},
   "outputs": [],
   "source": [
    "t_slice.CabinNumber = t_slice.CabinNumber.astype('float')"
   ]
  },
  {
   "cell_type": "code",
   "execution_count": 10,
   "id": "f8603d49",
   "metadata": {},
   "outputs": [],
   "source": [
    "deck_dic = dict(t_slice.groupby(['Deck','CabinSide']).CabinNumber.max().astype('int'))"
   ]
  },
  {
   "cell_type": "code",
   "execution_count": 20,
   "id": "3f93fa6b",
   "metadata": {},
   "outputs": [
    {
     "data": {
      "text/plain": [
       "{('A', 'P'): 98,\n",
       " ('A', 'S'): 109,\n",
       " ('B', 'P'): 301,\n",
       " ('B', 'S'): 353,\n",
       " ('C', 'P'): 309,\n",
       " ('C', 'S'): 342,\n",
       " ('D', 'P'): 297,\n",
       " ('D', 'S'): 278,\n",
       " ('E', 'P'): 598,\n",
       " ('E', 'S'): 608,\n",
       " ('F', 'P'): 1894,\n",
       " ('F', 'S'): 1796,\n",
       " ('G', 'P'): 1508,\n",
       " ('G', 'S'): 1500,\n",
       " ('T', 'P'): 4,\n",
       " ('T', 'S'): 3}"
      ]
     },
     "execution_count": 20,
     "metadata": {},
     "output_type": "execute_result"
    }
   ],
   "source": [
    "deck_dic"
   ]
  },
  {
   "cell_type": "code",
   "execution_count": 11,
   "id": "e705986d",
   "metadata": {},
   "outputs": [],
   "source": [
    "def trial(deck_dic):\n",
    "    deck_map = []\n",
    "    for d, s in deck_dic.keys():\n",
    "        max_num = deck_dic.get((d, s))\n",
    "        for i in range(max_num+1):\n",
    "            i = str(i) # need convert numeric into strings to join\n",
    "            join_result = '/'.join((d, i, s))\n",
    "            deck_map.append(join_result)\n",
    "    return deck_map\n",
    "\n",
    "deck_map = trial(deck_dic)"
   ]
  },
  {
   "cell_type": "code",
   "execution_count": 12,
   "id": "483d7f35",
   "metadata": {},
   "outputs": [
    {
     "name": "stdout",
     "output_type": "stream",
     "text": [
      "189 ['A/94/P', 'B/13/P', 'B/30/P', 'B/98/P', 'B/99/P', 'B/137/P', 'B/12/S', 'B/88/S', 'B/151/S', 'B/328/S', 'C/67/P', 'C/138/P', 'C/13/S', 'C/35/S', 'C/40/S', 'C/193/S', 'C/214/S', 'C/270/S', 'C/277/S', 'C/290/S', 'C/298/S', 'D/69/P', 'D/139/P', 'D/178/P', 'D/191/P', 'D/200/P', 'D/216/P', 'D/235/P', 'D/281/P', 'D/292/P', 'D/36/S', 'D/111/S', 'D/113/S', 'D/194/S', 'D/212/S', 'D/275/S', 'E/20/P', 'E/21/P', 'E/49/P', 'E/58/P', 'E/65/P', 'E/81/P', 'E/104/P', 'E/150/P', 'E/154/P', 'E/161/P', 'E/221/P', 'E/257/P', 'E/277/P', 'E/345/P', 'E/387/P', 'E/414/P', 'E/501/P', 'E/541/P', 'E/15/S', 'E/30/S', 'E/174/S', 'E/207/S', 'E/300/S', 'E/301/S', 'E/344/S', 'E/448/S', 'E/528/S', 'F/20/P', 'F/70/P', 'F/152/P', 'F/181/P', 'F/293/P', 'F/307/P', 'F/320/P', 'F/441/P', 'F/515/P', 'F/519/P', 'F/559/P', 'F/610/P', 'F/772/P', 'F/788/P', 'F/791/P', 'F/820/P', 'F/830/P', 'F/849/P', 'F/891/P', 'F/1093/P', 'F/1122/P', 'F/1178/P', 'F/1237/P', 'F/1295/P', 'F/1392/P', 'F/1489/P', 'F/1544/P', 'F/1628/P', 'F/1739/P', 'F/1769/P', 'F/1889/P', 'F/106/S', 'F/157/S', 'F/170/S', 'F/213/S', 'F/230/S', 'F/235/S', 'F/300/S', 'F/350/S', 'F/542/S', 'F/551/S', 'F/563/S', 'F/636/S', 'F/674/S', 'F/827/S', 'F/923/S', 'F/944/S', 'F/1267/S', 'F/1365/S', 'F/1376/S', 'F/1401/S', 'F/1424/S', 'F/1492/S', 'F/1571/S', 'F/1585/S', 'F/1596/S', 'F/1623/S', 'F/1785/S', 'G/39/P', 'G/73/P', 'G/121/P', 'G/151/P', 'G/171/P', 'G/273/P', 'G/345/P', 'G/422/P', 'G/515/P', 'G/590/P', 'G/723/P', 'G/775/P', 'G/824/P', 'G/943/P', 'G/1053/P', 'G/1118/P', 'G/1130/P', 'G/1134/P', 'G/1157/P', 'G/1252/P', 'G/1283/P', 'G/1286/P', 'G/1366/P', 'G/1445/P', 'G/1474/P', 'G/1506/P', 'G/2/S', 'G/40/S', 'G/46/S', 'G/49/S', 'G/75/S', 'G/79/S', 'G/110/S', 'G/257/S', 'G/267/S', 'G/280/S', 'G/334/S', 'G/338/S', 'G/356/S', 'G/399/S', 'G/406/S', 'G/534/S', 'G/579/S', 'G/649/S', 'G/684/S', 'G/726/S', 'G/759/S', 'G/766/S', 'G/786/S', 'G/821/S', 'G/829/S', 'G/831/S', 'G/859/S', 'G/874/S', 'G/876/S', 'G/878/S', 'G/1041/S', 'G/1062/S', 'G/1085/S', 'G/1164/S', 'G/1178/S', 'G/1200/S', 'G/1206/S', 'G/1212/S', 'G/1272/S', 'G/1282/S', 'G/1385/S', 'G/1447/S']\n"
     ]
    }
   ],
   "source": [
    "Cabin_list = list(t.Cabin)\n",
    "\n",
    "Counter = 0\n",
    "c_map = []\n",
    "for c in deck_map:\n",
    "    try:\n",
    "        Cabin_list.index(c)\n",
    "    except:\n",
    "        c_map.append(c)\n",
    "        Counter += 1\n",
    "print(Counter, c_map)"
   ]
  },
  {
   "cell_type": "code",
   "execution_count": 19,
   "id": "4462f98f",
   "metadata": {},
   "outputs": [
    {
     "data": {
      "text/plain": [
       "112"
      ]
     },
     "execution_count": 19,
     "metadata": {},
     "output_type": "execute_result"
    }
   ],
   "source": [
    "301-189"
   ]
  },
  {
   "cell_type": "code",
   "execution_count": 13,
   "id": "628d9947",
   "metadata": {},
   "outputs": [
    {
     "data": {
      "text/plain": [
       "301"
      ]
     },
     "execution_count": 13,
     "metadata": {},
     "output_type": "execute_result"
    }
   ],
   "source": [
    "t.Deck.isna().sum()"
   ]
  }
 ],
 "metadata": {
  "kernelspec": {
   "display_name": "Python 3",
   "language": "python",
   "name": "python3"
  },
  "language_info": {
   "codemirror_mode": {
    "name": "ipython",
    "version": 3
   },
   "file_extension": ".py",
   "mimetype": "text/x-python",
   "name": "python",
   "nbconvert_exporter": "python",
   "pygments_lexer": "ipython3",
   "version": "3.6.13"
  }
 },
 "nbformat": 4,
 "nbformat_minor": 5
}
